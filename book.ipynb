{
 "cells": [
  {
   "cell_type": "code",
   "execution_count": 1,
   "id": "b1e0db4f-424b-47b7-962f-196a9a3b1e6c",
   "metadata": {
    "tags": []
   },
   "outputs": [],
   "source": [
    "import numpy as np\n",
    "import pandas as pd"
   ]
  },
  {
   "cell_type": "code",
   "execution_count": 2,
   "id": "71189950-d058-4134-9826-eb16c3b0b01c",
   "metadata": {
    "tags": []
   },
   "outputs": [
    {
     "name": "stderr",
     "output_type": "stream",
     "text": [
      "C:\\Users\\Ali\\AppData\\Local\\Temp\\ipykernel_12484\\3819754567.py:1: DtypeWarning: Columns (3) have mixed types. Specify dtype option on import or set low_memory=False.\n",
      "  books = pd.read_csv('books.csv')\n"
     ]
    }
   ],
   "source": [
    "books = pd.read_csv('books.csv')\n",
    "users = pd.read_csv('users.csv')\n",
    "ratings = pd.read_csv('ratings.csv')"
   ]
  },
  {
   "cell_type": "code",
   "execution_count": 3,
   "id": "ea9e756c-a4a1-443f-9ebf-038793f1a723",
   "metadata": {
    "tags": []
   },
   "outputs": [
    {
     "name": "stdout",
     "output_type": "stream",
     "text": [
      "(271360, 8)\n",
      "(1149780, 3)\n",
      "(278858, 3)\n"
     ]
    }
   ],
   "source": [
    "print(books.shape)\n",
    "print(ratings.shape)\n",
    "print(users.shape)"
   ]
  },
  {
   "cell_type": "code",
   "execution_count": 4,
   "id": "2896b098-3319-4043-b056-ee90c2fff616",
   "metadata": {
    "tags": []
   },
   "outputs": [
    {
     "data": {
      "text/plain": [
       "ISBN                   0\n",
       "Book-Title             0\n",
       "Book-Author            1\n",
       "Year-Of-Publication    0\n",
       "Publisher              2\n",
       "Image-URL-S            0\n",
       "Image-URL-M            0\n",
       "Image-URL-L            3\n",
       "dtype: int64"
      ]
     },
     "execution_count": 4,
     "metadata": {},
     "output_type": "execute_result"
    }
   ],
   "source": [
    "books.isnull().sum()"
   ]
  },
  {
   "cell_type": "code",
   "execution_count": 5,
   "id": "19f8819e-30b3-4860-8fd9-9958ba294e1b",
   "metadata": {
    "tags": []
   },
   "outputs": [
    {
     "data": {
      "text/plain": [
       "User-ID          0\n",
       "Location         0\n",
       "Age         110762\n",
       "dtype: int64"
      ]
     },
     "execution_count": 5,
     "metadata": {},
     "output_type": "execute_result"
    }
   ],
   "source": [
    "users.isnull().sum()"
   ]
  },
  {
   "cell_type": "code",
   "execution_count": 6,
   "id": "c9b991cc-f8dd-48b2-b68f-13874cf6c6b4",
   "metadata": {
    "tags": []
   },
   "outputs": [
    {
     "data": {
      "text/plain": [
       "User-ID        0\n",
       "ISBN           0\n",
       "Book-Rating    0\n",
       "dtype: int64"
      ]
     },
     "execution_count": 6,
     "metadata": {},
     "output_type": "execute_result"
    }
   ],
   "source": [
    "ratings.isnull().sum()"
   ]
  },
  {
   "cell_type": "code",
   "execution_count": 7,
   "id": "d66ff3a0-eb3c-49cc-aedb-d9bc60eb93f1",
   "metadata": {
    "tags": []
   },
   "outputs": [
    {
     "data": {
      "text/plain": [
       "0"
      ]
     },
     "execution_count": 7,
     "metadata": {},
     "output_type": "execute_result"
    }
   ],
   "source": [
    "books.duplicated().sum()"
   ]
  },
  {
   "cell_type": "code",
   "execution_count": 8,
   "id": "e967129a-fae6-4208-bce3-6b438ac0039d",
   "metadata": {
    "tags": []
   },
   "outputs": [
    {
     "data": {
      "text/plain": [
       "0"
      ]
     },
     "execution_count": 8,
     "metadata": {},
     "output_type": "execute_result"
    }
   ],
   "source": [
    "ratings.duplicated().sum()"
   ]
  },
  {
   "cell_type": "code",
   "execution_count": 9,
   "id": "26459cef-3463-4270-b0ba-25420826e649",
   "metadata": {
    "tags": []
   },
   "outputs": [
    {
     "data": {
      "text/plain": [
       "0"
      ]
     },
     "execution_count": 9,
     "metadata": {},
     "output_type": "execute_result"
    }
   ],
   "source": [
    "users.duplicated().sum()"
   ]
  },
  {
   "cell_type": "code",
   "execution_count": 10,
   "id": "3b6f3e17-1b44-48b8-bfeb-ce99f3d60a82",
   "metadata": {
    "tags": []
   },
   "outputs": [],
   "source": [
    "ratings_merge = ratings.merge(books,on='ISBN')"
   ]
  },
  {
   "cell_type": "code",
   "execution_count": 11,
   "id": "62944b4f-f800-4640-bc37-325e7a88c6f0",
   "metadata": {
    "tags": []
   },
   "outputs": [],
   "source": [
    "x = ratings_merge.groupby('User-ID').count()['Book-Rating'] > 200\n",
    "users = x[x].index"
   ]
  },
  {
   "cell_type": "code",
   "execution_count": 12,
   "id": "155e6847-47e5-4e1f-b8ce-a39313ab7cd9",
   "metadata": {
    "tags": []
   },
   "outputs": [],
   "source": [
    "filtered_rating = ratings_merge[ratings_merge['User-ID'].isin(users)]"
   ]
  },
  {
   "cell_type": "code",
   "execution_count": 13,
   "id": "3314bb24-e14a-4cd0-910d-dfa51cd2c9c1",
   "metadata": {
    "tags": []
   },
   "outputs": [],
   "source": [
    "y = filtered_rating.groupby('Book-Title').count()['Book-Rating']>=50\n",
    "book = y[y].index"
   ]
  },
  {
   "cell_type": "code",
   "execution_count": 14,
   "id": "9a6be3ef-57b8-4311-9fc0-39620b7e5b02",
   "metadata": {
    "tags": []
   },
   "outputs": [],
   "source": [
    "final_ratings = filtered_rating[filtered_rating['Book-Title'].isin(book)]"
   ]
  },
  {
   "cell_type": "code",
   "execution_count": 15,
   "id": "a6405143-2b53-436c-bca6-0a96ecbbe989",
   "metadata": {
    "tags": []
   },
   "outputs": [],
   "source": [
    "pt = final_ratings.pivot_table(index='User-ID',columns='Book-Title',values='Book-Rating')"
   ]
  },
  {
   "cell_type": "code",
   "execution_count": 16,
   "id": "a6c3d9f8-88e0-4c79-a99e-93df3cde1923",
   "metadata": {
    "tags": []
   },
   "outputs": [],
   "source": [
    "pt.fillna(0,inplace=True)"
   ]
  },
  {
   "cell_type": "code",
   "execution_count": 17,
   "id": "d39279b3-81d4-4174-863e-5b4b2e8a4783",
   "metadata": {
    "tags": []
   },
   "outputs": [
    {
     "data": {
      "text/html": [
       "<div>\n",
       "<style scoped>\n",
       "    .dataframe tbody tr th:only-of-type {\n",
       "        vertical-align: middle;\n",
       "    }\n",
       "\n",
       "    .dataframe tbody tr th {\n",
       "        vertical-align: top;\n",
       "    }\n",
       "\n",
       "    .dataframe thead th {\n",
       "        text-align: right;\n",
       "    }\n",
       "</style>\n",
       "<table border=\"1\" class=\"dataframe\">\n",
       "  <thead>\n",
       "    <tr style=\"text-align: right;\">\n",
       "      <th>Book-Title</th>\n",
       "      <th>1984</th>\n",
       "      <th>1st to Die: A Novel</th>\n",
       "      <th>2nd Chance</th>\n",
       "      <th>4 Blondes</th>\n",
       "      <th>A Bend in the Road</th>\n",
       "      <th>A Case of Need</th>\n",
       "      <th>A Child Called \\It\\\": One Child's Courage to Survive\"</th>\n",
       "      <th>A Civil Action</th>\n",
       "      <th>A Day Late and a Dollar Short</th>\n",
       "      <th>A Fine Balance</th>\n",
       "      <th>...</th>\n",
       "      <th>Winter Solstice</th>\n",
       "      <th>Wish You Well</th>\n",
       "      <th>Without Remorse</th>\n",
       "      <th>Wizard and Glass (The Dark Tower, Book 4)</th>\n",
       "      <th>Wuthering Heights</th>\n",
       "      <th>Year of Wonders</th>\n",
       "      <th>You Belong To Me</th>\n",
       "      <th>Zen and the Art of Motorcycle Maintenance: An Inquiry into Values</th>\n",
       "      <th>Zoya</th>\n",
       "      <th>\\O\\\" Is for Outlaw\"</th>\n",
       "    </tr>\n",
       "    <tr>\n",
       "      <th>User-ID</th>\n",
       "      <th></th>\n",
       "      <th></th>\n",
       "      <th></th>\n",
       "      <th></th>\n",
       "      <th></th>\n",
       "      <th></th>\n",
       "      <th></th>\n",
       "      <th></th>\n",
       "      <th></th>\n",
       "      <th></th>\n",
       "      <th></th>\n",
       "      <th></th>\n",
       "      <th></th>\n",
       "      <th></th>\n",
       "      <th></th>\n",
       "      <th></th>\n",
       "      <th></th>\n",
       "      <th></th>\n",
       "      <th></th>\n",
       "      <th></th>\n",
       "      <th></th>\n",
       "    </tr>\n",
       "  </thead>\n",
       "  <tbody>\n",
       "    <tr>\n",
       "      <th>254</th>\n",
       "      <td>9.0</td>\n",
       "      <td>0.0</td>\n",
       "      <td>0.0</td>\n",
       "      <td>0.0</td>\n",
       "      <td>0.0</td>\n",
       "      <td>0.0</td>\n",
       "      <td>0.0</td>\n",
       "      <td>0.0</td>\n",
       "      <td>0.0</td>\n",
       "      <td>0.0</td>\n",
       "      <td>...</td>\n",
       "      <td>0.0</td>\n",
       "      <td>0.0</td>\n",
       "      <td>0.0</td>\n",
       "      <td>0.0</td>\n",
       "      <td>0.0</td>\n",
       "      <td>0.0</td>\n",
       "      <td>0.0</td>\n",
       "      <td>0.0</td>\n",
       "      <td>0.0</td>\n",
       "      <td>0.0</td>\n",
       "    </tr>\n",
       "    <tr>\n",
       "      <th>2276</th>\n",
       "      <td>0.0</td>\n",
       "      <td>0.0</td>\n",
       "      <td>10.0</td>\n",
       "      <td>0.0</td>\n",
       "      <td>0.0</td>\n",
       "      <td>0.0</td>\n",
       "      <td>0.0</td>\n",
       "      <td>0.0</td>\n",
       "      <td>0.0</td>\n",
       "      <td>0.0</td>\n",
       "      <td>...</td>\n",
       "      <td>0.0</td>\n",
       "      <td>0.0</td>\n",
       "      <td>0.0</td>\n",
       "      <td>0.0</td>\n",
       "      <td>0.0</td>\n",
       "      <td>0.0</td>\n",
       "      <td>0.0</td>\n",
       "      <td>0.0</td>\n",
       "      <td>0.0</td>\n",
       "      <td>0.0</td>\n",
       "    </tr>\n",
       "    <tr>\n",
       "      <th>2766</th>\n",
       "      <td>0.0</td>\n",
       "      <td>0.0</td>\n",
       "      <td>0.0</td>\n",
       "      <td>0.0</td>\n",
       "      <td>7.0</td>\n",
       "      <td>0.0</td>\n",
       "      <td>0.0</td>\n",
       "      <td>0.0</td>\n",
       "      <td>0.0</td>\n",
       "      <td>0.0</td>\n",
       "      <td>...</td>\n",
       "      <td>0.0</td>\n",
       "      <td>0.0</td>\n",
       "      <td>0.0</td>\n",
       "      <td>0.0</td>\n",
       "      <td>0.0</td>\n",
       "      <td>0.0</td>\n",
       "      <td>0.0</td>\n",
       "      <td>0.0</td>\n",
       "      <td>0.0</td>\n",
       "      <td>0.0</td>\n",
       "    </tr>\n",
       "    <tr>\n",
       "      <th>2977</th>\n",
       "      <td>0.0</td>\n",
       "      <td>0.0</td>\n",
       "      <td>0.0</td>\n",
       "      <td>0.0</td>\n",
       "      <td>0.0</td>\n",
       "      <td>0.0</td>\n",
       "      <td>0.0</td>\n",
       "      <td>0.0</td>\n",
       "      <td>0.0</td>\n",
       "      <td>0.0</td>\n",
       "      <td>...</td>\n",
       "      <td>0.0</td>\n",
       "      <td>0.0</td>\n",
       "      <td>0.0</td>\n",
       "      <td>0.0</td>\n",
       "      <td>0.0</td>\n",
       "      <td>7.0</td>\n",
       "      <td>0.0</td>\n",
       "      <td>0.0</td>\n",
       "      <td>0.0</td>\n",
       "      <td>0.0</td>\n",
       "    </tr>\n",
       "    <tr>\n",
       "      <th>3363</th>\n",
       "      <td>0.0</td>\n",
       "      <td>0.0</td>\n",
       "      <td>0.0</td>\n",
       "      <td>0.0</td>\n",
       "      <td>0.0</td>\n",
       "      <td>0.0</td>\n",
       "      <td>0.0</td>\n",
       "      <td>0.0</td>\n",
       "      <td>0.0</td>\n",
       "      <td>0.0</td>\n",
       "      <td>...</td>\n",
       "      <td>0.0</td>\n",
       "      <td>0.0</td>\n",
       "      <td>0.0</td>\n",
       "      <td>0.0</td>\n",
       "      <td>0.0</td>\n",
       "      <td>0.0</td>\n",
       "      <td>0.0</td>\n",
       "      <td>0.0</td>\n",
       "      <td>0.0</td>\n",
       "      <td>0.0</td>\n",
       "    </tr>\n",
       "    <tr>\n",
       "      <th>...</th>\n",
       "      <td>...</td>\n",
       "      <td>...</td>\n",
       "      <td>...</td>\n",
       "      <td>...</td>\n",
       "      <td>...</td>\n",
       "      <td>...</td>\n",
       "      <td>...</td>\n",
       "      <td>...</td>\n",
       "      <td>...</td>\n",
       "      <td>...</td>\n",
       "      <td>...</td>\n",
       "      <td>...</td>\n",
       "      <td>...</td>\n",
       "      <td>...</td>\n",
       "      <td>...</td>\n",
       "      <td>...</td>\n",
       "      <td>...</td>\n",
       "      <td>...</td>\n",
       "      <td>...</td>\n",
       "      <td>...</td>\n",
       "      <td>...</td>\n",
       "    </tr>\n",
       "    <tr>\n",
       "      <th>274308</th>\n",
       "      <td>0.0</td>\n",
       "      <td>0.0</td>\n",
       "      <td>0.0</td>\n",
       "      <td>0.0</td>\n",
       "      <td>0.0</td>\n",
       "      <td>7.0</td>\n",
       "      <td>0.0</td>\n",
       "      <td>0.0</td>\n",
       "      <td>0.0</td>\n",
       "      <td>0.0</td>\n",
       "      <td>...</td>\n",
       "      <td>0.0</td>\n",
       "      <td>0.0</td>\n",
       "      <td>0.0</td>\n",
       "      <td>0.0</td>\n",
       "      <td>0.0</td>\n",
       "      <td>0.0</td>\n",
       "      <td>0.0</td>\n",
       "      <td>0.0</td>\n",
       "      <td>0.0</td>\n",
       "      <td>0.0</td>\n",
       "    </tr>\n",
       "    <tr>\n",
       "      <th>275970</th>\n",
       "      <td>0.0</td>\n",
       "      <td>0.0</td>\n",
       "      <td>0.0</td>\n",
       "      <td>0.0</td>\n",
       "      <td>0.0</td>\n",
       "      <td>0.0</td>\n",
       "      <td>0.0</td>\n",
       "      <td>0.0</td>\n",
       "      <td>0.0</td>\n",
       "      <td>0.0</td>\n",
       "      <td>...</td>\n",
       "      <td>0.0</td>\n",
       "      <td>0.0</td>\n",
       "      <td>0.0</td>\n",
       "      <td>0.0</td>\n",
       "      <td>0.0</td>\n",
       "      <td>0.0</td>\n",
       "      <td>0.0</td>\n",
       "      <td>0.0</td>\n",
       "      <td>0.0</td>\n",
       "      <td>0.0</td>\n",
       "    </tr>\n",
       "    <tr>\n",
       "      <th>277427</th>\n",
       "      <td>0.0</td>\n",
       "      <td>0.0</td>\n",
       "      <td>0.0</td>\n",
       "      <td>0.0</td>\n",
       "      <td>0.0</td>\n",
       "      <td>0.0</td>\n",
       "      <td>0.0</td>\n",
       "      <td>0.0</td>\n",
       "      <td>0.0</td>\n",
       "      <td>0.0</td>\n",
       "      <td>...</td>\n",
       "      <td>0.0</td>\n",
       "      <td>0.0</td>\n",
       "      <td>0.0</td>\n",
       "      <td>0.0</td>\n",
       "      <td>0.0</td>\n",
       "      <td>0.0</td>\n",
       "      <td>0.0</td>\n",
       "      <td>0.0</td>\n",
       "      <td>0.0</td>\n",
       "      <td>0.0</td>\n",
       "    </tr>\n",
       "    <tr>\n",
       "      <th>277639</th>\n",
       "      <td>0.0</td>\n",
       "      <td>0.0</td>\n",
       "      <td>0.0</td>\n",
       "      <td>0.0</td>\n",
       "      <td>0.0</td>\n",
       "      <td>0.0</td>\n",
       "      <td>0.0</td>\n",
       "      <td>0.0</td>\n",
       "      <td>0.0</td>\n",
       "      <td>0.0</td>\n",
       "      <td>...</td>\n",
       "      <td>0.0</td>\n",
       "      <td>0.0</td>\n",
       "      <td>0.0</td>\n",
       "      <td>0.0</td>\n",
       "      <td>0.0</td>\n",
       "      <td>0.0</td>\n",
       "      <td>0.0</td>\n",
       "      <td>0.0</td>\n",
       "      <td>0.0</td>\n",
       "      <td>0.0</td>\n",
       "    </tr>\n",
       "    <tr>\n",
       "      <th>278418</th>\n",
       "      <td>0.0</td>\n",
       "      <td>0.0</td>\n",
       "      <td>0.0</td>\n",
       "      <td>0.0</td>\n",
       "      <td>0.0</td>\n",
       "      <td>0.0</td>\n",
       "      <td>0.0</td>\n",
       "      <td>0.0</td>\n",
       "      <td>0.0</td>\n",
       "      <td>0.0</td>\n",
       "      <td>...</td>\n",
       "      <td>0.0</td>\n",
       "      <td>0.0</td>\n",
       "      <td>0.0</td>\n",
       "      <td>0.0</td>\n",
       "      <td>0.0</td>\n",
       "      <td>0.0</td>\n",
       "      <td>0.0</td>\n",
       "      <td>0.0</td>\n",
       "      <td>0.0</td>\n",
       "      <td>0.0</td>\n",
       "    </tr>\n",
       "  </tbody>\n",
       "</table>\n",
       "<p>810 rows × 706 columns</p>\n",
       "</div>"
      ],
      "text/plain": [
       "Book-Title  1984  1st to Die: A Novel  2nd Chance  4 Blondes  \\\n",
       "User-ID                                                        \n",
       "254          9.0                  0.0         0.0        0.0   \n",
       "2276         0.0                  0.0        10.0        0.0   \n",
       "2766         0.0                  0.0         0.0        0.0   \n",
       "2977         0.0                  0.0         0.0        0.0   \n",
       "3363         0.0                  0.0         0.0        0.0   \n",
       "...          ...                  ...         ...        ...   \n",
       "274308       0.0                  0.0         0.0        0.0   \n",
       "275970       0.0                  0.0         0.0        0.0   \n",
       "277427       0.0                  0.0         0.0        0.0   \n",
       "277639       0.0                  0.0         0.0        0.0   \n",
       "278418       0.0                  0.0         0.0        0.0   \n",
       "\n",
       "Book-Title  A Bend in the Road  A Case of Need  \\\n",
       "User-ID                                          \n",
       "254                        0.0             0.0   \n",
       "2276                       0.0             0.0   \n",
       "2766                       7.0             0.0   \n",
       "2977                       0.0             0.0   \n",
       "3363                       0.0             0.0   \n",
       "...                        ...             ...   \n",
       "274308                     0.0             7.0   \n",
       "275970                     0.0             0.0   \n",
       "277427                     0.0             0.0   \n",
       "277639                     0.0             0.0   \n",
       "278418                     0.0             0.0   \n",
       "\n",
       "Book-Title  A Child Called \\It\\\": One Child's Courage to Survive\"  \\\n",
       "User-ID                                                             \n",
       "254                                                       0.0       \n",
       "2276                                                      0.0       \n",
       "2766                                                      0.0       \n",
       "2977                                                      0.0       \n",
       "3363                                                      0.0       \n",
       "...                                                       ...       \n",
       "274308                                                    0.0       \n",
       "275970                                                    0.0       \n",
       "277427                                                    0.0       \n",
       "277639                                                    0.0       \n",
       "278418                                                    0.0       \n",
       "\n",
       "Book-Title  A Civil Action  A Day Late and a Dollar Short  A Fine Balance  \\\n",
       "User-ID                                                                     \n",
       "254                    0.0                            0.0             0.0   \n",
       "2276                   0.0                            0.0             0.0   \n",
       "2766                   0.0                            0.0             0.0   \n",
       "2977                   0.0                            0.0             0.0   \n",
       "3363                   0.0                            0.0             0.0   \n",
       "...                    ...                            ...             ...   \n",
       "274308                 0.0                            0.0             0.0   \n",
       "275970                 0.0                            0.0             0.0   \n",
       "277427                 0.0                            0.0             0.0   \n",
       "277639                 0.0                            0.0             0.0   \n",
       "278418                 0.0                            0.0             0.0   \n",
       "\n",
       "Book-Title  ...  Winter Solstice  Wish You Well  Without Remorse  \\\n",
       "User-ID     ...                                                    \n",
       "254         ...              0.0            0.0              0.0   \n",
       "2276        ...              0.0            0.0              0.0   \n",
       "2766        ...              0.0            0.0              0.0   \n",
       "2977        ...              0.0            0.0              0.0   \n",
       "3363        ...              0.0            0.0              0.0   \n",
       "...         ...              ...            ...              ...   \n",
       "274308      ...              0.0            0.0              0.0   \n",
       "275970      ...              0.0            0.0              0.0   \n",
       "277427      ...              0.0            0.0              0.0   \n",
       "277639      ...              0.0            0.0              0.0   \n",
       "278418      ...              0.0            0.0              0.0   \n",
       "\n",
       "Book-Title  Wizard and Glass (The Dark Tower, Book 4)  Wuthering Heights  \\\n",
       "User-ID                                                                    \n",
       "254                                               0.0                0.0   \n",
       "2276                                              0.0                0.0   \n",
       "2766                                              0.0                0.0   \n",
       "2977                                              0.0                0.0   \n",
       "3363                                              0.0                0.0   \n",
       "...                                               ...                ...   \n",
       "274308                                            0.0                0.0   \n",
       "275970                                            0.0                0.0   \n",
       "277427                                            0.0                0.0   \n",
       "277639                                            0.0                0.0   \n",
       "278418                                            0.0                0.0   \n",
       "\n",
       "Book-Title  Year of Wonders  You Belong To Me  \\\n",
       "User-ID                                         \n",
       "254                     0.0               0.0   \n",
       "2276                    0.0               0.0   \n",
       "2766                    0.0               0.0   \n",
       "2977                    7.0               0.0   \n",
       "3363                    0.0               0.0   \n",
       "...                     ...               ...   \n",
       "274308                  0.0               0.0   \n",
       "275970                  0.0               0.0   \n",
       "277427                  0.0               0.0   \n",
       "277639                  0.0               0.0   \n",
       "278418                  0.0               0.0   \n",
       "\n",
       "Book-Title  Zen and the Art of Motorcycle Maintenance: An Inquiry into Values  \\\n",
       "User-ID                                                                         \n",
       "254                                                       0.0                   \n",
       "2276                                                      0.0                   \n",
       "2766                                                      0.0                   \n",
       "2977                                                      0.0                   \n",
       "3363                                                      0.0                   \n",
       "...                                                       ...                   \n",
       "274308                                                    0.0                   \n",
       "275970                                                    0.0                   \n",
       "277427                                                    0.0                   \n",
       "277639                                                    0.0                   \n",
       "278418                                                    0.0                   \n",
       "\n",
       "Book-Title  Zoya  \\O\\\" Is for Outlaw\"  \n",
       "User-ID                                \n",
       "254          0.0                  0.0  \n",
       "2276         0.0                  0.0  \n",
       "2766         0.0                  0.0  \n",
       "2977         0.0                  0.0  \n",
       "3363         0.0                  0.0  \n",
       "...          ...                  ...  \n",
       "274308       0.0                  0.0  \n",
       "275970       0.0                  0.0  \n",
       "277427       0.0                  0.0  \n",
       "277639       0.0                  0.0  \n",
       "278418       0.0                  0.0  \n",
       "\n",
       "[810 rows x 706 columns]"
      ]
     },
     "execution_count": 17,
     "metadata": {},
     "output_type": "execute_result"
    }
   ],
   "source": [
    "pt"
   ]
  },
  {
   "cell_type": "code",
   "execution_count": 18,
   "id": "06eebc59-63af-430c-90b0-4fe69456b770",
   "metadata": {
    "tags": []
   },
   "outputs": [
    {
     "data": {
      "text/html": [
       "<div>\n",
       "<style scoped>\n",
       "    .dataframe tbody tr th:only-of-type {\n",
       "        vertical-align: middle;\n",
       "    }\n",
       "\n",
       "    .dataframe tbody tr th {\n",
       "        vertical-align: top;\n",
       "    }\n",
       "\n",
       "    .dataframe thead th {\n",
       "        text-align: right;\n",
       "    }\n",
       "</style>\n",
       "<table border=\"1\" class=\"dataframe\">\n",
       "  <thead>\n",
       "    <tr style=\"text-align: right;\">\n",
       "      <th></th>\n",
       "      <th>ISBN</th>\n",
       "      <th>Book-Title</th>\n",
       "      <th>Book-Author</th>\n",
       "      <th>Year-Of-Publication</th>\n",
       "      <th>Publisher</th>\n",
       "      <th>Image-URL-S</th>\n",
       "      <th>Image-URL-M</th>\n",
       "      <th>Image-URL-L</th>\n",
       "    </tr>\n",
       "  </thead>\n",
       "  <tbody>\n",
       "    <tr>\n",
       "      <th>16861</th>\n",
       "      <td>0060830719</td>\n",
       "      <td>Great Short Works of Leo Tolstoy</td>\n",
       "      <td>Leo Tolstoy</td>\n",
       "      <td>1967</td>\n",
       "      <td>Perennial</td>\n",
       "      <td>http://images.amazon.com/images/P/0060830719.0...</td>\n",
       "      <td>http://images.amazon.com/images/P/0060830719.0...</td>\n",
       "      <td>http://images.amazon.com/images/P/0060830719.0...</td>\n",
       "    </tr>\n",
       "    <tr>\n",
       "      <th>118575</th>\n",
       "      <td>1555972489</td>\n",
       "      <td>Tolstoy's Dictaphone: Technology and the Muse ...</td>\n",
       "      <td>Sven Birkerts</td>\n",
       "      <td>1996</td>\n",
       "      <td>Graywolf Press</td>\n",
       "      <td>http://images.amazon.com/images/P/1555972489.0...</td>\n",
       "      <td>http://images.amazon.com/images/P/1555972489.0...</td>\n",
       "      <td>http://images.amazon.com/images/P/1555972489.0...</td>\n",
       "    </tr>\n",
       "    <tr>\n",
       "      <th>165737</th>\n",
       "      <td>8484036472</td>\n",
       "      <td>Ana Karenina / Los cosacos (LeÃ³n Tolstoi: Obr...</td>\n",
       "      <td>LeÃ³n Tolstoi</td>\n",
       "      <td>2000</td>\n",
       "      <td>Edimat Libros</td>\n",
       "      <td>http://images.amazon.com/images/P/8484036472.0...</td>\n",
       "      <td>http://images.amazon.com/images/P/8484036472.0...</td>\n",
       "      <td>http://images.amazon.com/images/P/8484036472.0...</td>\n",
       "    </tr>\n",
       "    <tr>\n",
       "      <th>245961</th>\n",
       "      <td>0374980101</td>\n",
       "      <td>Tolstoy</td>\n",
       "      <td>Henri, Troyat</td>\n",
       "      <td>1980</td>\n",
       "      <td>Octagon Books</td>\n",
       "      <td>http://images.amazon.com/images/P/0374980101.0...</td>\n",
       "      <td>http://images.amazon.com/images/P/0374980101.0...</td>\n",
       "      <td>http://images.amazon.com/images/P/0374980101.0...</td>\n",
       "    </tr>\n",
       "    <tr>\n",
       "      <th>263018</th>\n",
       "      <td>0140150919</td>\n",
       "      <td>The Portable Tolstoy (The Viking Portable Libr...</td>\n",
       "      <td>Leo Tolstoy</td>\n",
       "      <td>1978</td>\n",
       "      <td>Penguin Books</td>\n",
       "      <td>http://images.amazon.com/images/P/0140150919.0...</td>\n",
       "      <td>http://images.amazon.com/images/P/0140150919.0...</td>\n",
       "      <td>http://images.amazon.com/images/P/0140150919.0...</td>\n",
       "    </tr>\n",
       "  </tbody>\n",
       "</table>\n",
       "</div>"
      ],
      "text/plain": [
       "              ISBN                                         Book-Title  \\\n",
       "16861   0060830719                   Great Short Works of Leo Tolstoy   \n",
       "118575  1555972489  Tolstoy's Dictaphone: Technology and the Muse ...   \n",
       "165737  8484036472  Ana Karenina / Los cosacos (LeÃ³n Tolstoi: Obr...   \n",
       "245961  0374980101                                            Tolstoy   \n",
       "263018  0140150919  The Portable Tolstoy (The Viking Portable Libr...   \n",
       "\n",
       "          Book-Author Year-Of-Publication       Publisher  \\\n",
       "16861     Leo Tolstoy                1967       Perennial   \n",
       "118575  Sven Birkerts                1996  Graywolf Press   \n",
       "165737  LeÃ³n Tolstoi                2000   Edimat Libros   \n",
       "245961  Henri, Troyat                1980   Octagon Books   \n",
       "263018    Leo Tolstoy                1978   Penguin Books   \n",
       "\n",
       "                                              Image-URL-S  \\\n",
       "16861   http://images.amazon.com/images/P/0060830719.0...   \n",
       "118575  http://images.amazon.com/images/P/1555972489.0...   \n",
       "165737  http://images.amazon.com/images/P/8484036472.0...   \n",
       "245961  http://images.amazon.com/images/P/0374980101.0...   \n",
       "263018  http://images.amazon.com/images/P/0140150919.0...   \n",
       "\n",
       "                                              Image-URL-M  \\\n",
       "16861   http://images.amazon.com/images/P/0060830719.0...   \n",
       "118575  http://images.amazon.com/images/P/1555972489.0...   \n",
       "165737  http://images.amazon.com/images/P/8484036472.0...   \n",
       "245961  http://images.amazon.com/images/P/0374980101.0...   \n",
       "263018  http://images.amazon.com/images/P/0140150919.0...   \n",
       "\n",
       "                                              Image-URL-L  \n",
       "16861   http://images.amazon.com/images/P/0060830719.0...  \n",
       "118575  http://images.amazon.com/images/P/1555972489.0...  \n",
       "165737  http://images.amazon.com/images/P/8484036472.0...  \n",
       "245961  http://images.amazon.com/images/P/0374980101.0...  \n",
       "263018  http://images.amazon.com/images/P/0140150919.0...  "
      ]
     },
     "execution_count": 18,
     "metadata": {},
     "output_type": "execute_result"
    }
   ],
   "source": [
    "books[books['Book-Title'].str.contains('Tols', regex=False)]"
   ]
  },
  {
   "cell_type": "code",
   "execution_count": 20,
   "id": "05ddefa2-d4f4-43c6-8842-44dcf039d8b0",
   "metadata": {
    "tags": []
   },
   "outputs": [
    {
     "data": {
      "text/plain": [
       "User-ID\n",
       "254     9.0\n",
       "2276    0.0\n",
       "2766    0.0\n",
       "2977    0.0\n",
       "3363    0.0\n",
       "Name: 1984, dtype: float64"
      ]
     },
     "execution_count": 20,
     "metadata": {},
     "output_type": "execute_result"
    }
   ],
   "source": [
    "user = pt[\"1984\"]\n",
    "user.head()"
   ]
  },
  {
   "cell_type": "code",
   "execution_count": 20,
   "id": "32e29c16-555f-48a2-9c9c-fac7c7e025fc",
   "metadata": {
    "tags": []
   },
   "outputs": [],
   "source": [
    "def crlt(user):\n",
    "    similar= pt.corrwith(user)\n",
    "    corrls=pd.DataFrame(similar,columns=[\"Correlation\"])\n",
    "    corrls.dropna(inplace=True)\n",
    "    rslt=corrls.sort_values('Correlation',ascending=False).head(5)\n",
    "    return rslt"
   ]
  },
  {
   "cell_type": "code",
   "execution_count": 21,
   "id": "78b07741-3093-44a2-ab95-258da91c8cbb",
   "metadata": {
    "tags": []
   },
   "outputs": [
    {
     "data": {
      "text/html": [
       "<div>\n",
       "<style scoped>\n",
       "    .dataframe tbody tr th:only-of-type {\n",
       "        vertical-align: middle;\n",
       "    }\n",
       "\n",
       "    .dataframe tbody tr th {\n",
       "        vertical-align: top;\n",
       "    }\n",
       "\n",
       "    .dataframe thead th {\n",
       "        text-align: right;\n",
       "    }\n",
       "</style>\n",
       "<table border=\"1\" class=\"dataframe\">\n",
       "  <thead>\n",
       "    <tr style=\"text-align: right;\">\n",
       "      <th></th>\n",
       "      <th>Correlation</th>\n",
       "    </tr>\n",
       "    <tr>\n",
       "      <th>Book-Title</th>\n",
       "      <th></th>\n",
       "    </tr>\n",
       "  </thead>\n",
       "  <tbody>\n",
       "    <tr>\n",
       "      <th>1984</th>\n",
       "      <td>1.000000</td>\n",
       "    </tr>\n",
       "    <tr>\n",
       "      <th>Animal Farm</th>\n",
       "      <td>0.248634</td>\n",
       "    </tr>\n",
       "    <tr>\n",
       "      <th>The Handmaid's Tale</th>\n",
       "      <td>0.235597</td>\n",
       "    </tr>\n",
       "    <tr>\n",
       "      <th>Brave New World</th>\n",
       "      <td>0.215325</td>\n",
       "    </tr>\n",
       "    <tr>\n",
       "      <th>The Hours : A Novel</th>\n",
       "      <td>0.210213</td>\n",
       "    </tr>\n",
       "  </tbody>\n",
       "</table>\n",
       "</div>"
      ],
      "text/plain": [
       "                     Correlation\n",
       "Book-Title                      \n",
       "1984                    1.000000\n",
       "Animal Farm             0.248634\n",
       "The Handmaid's Tale     0.235597\n",
       "Brave New World         0.215325\n",
       "The Hours : A Novel     0.210213"
      ]
     },
     "execution_count": 21,
     "metadata": {},
     "output_type": "execute_result"
    }
   ],
   "source": [
    "crlt(user)"
   ]
  },
  {
   "cell_type": "code",
   "execution_count": 22,
   "id": "ac86fdbc-1c8f-43dc-b813-a2eaf3ee8502",
   "metadata": {},
   "outputs": [],
   "source": [
    "import pickle\n",
    "pickle.dump(pt,open('pt.pkl','wb'))"
   ]
  },
  {
   "cell_type": "code",
   "execution_count": 23,
   "id": "fc23dc80-6f5c-4b5c-88cc-cc813974b22b",
   "metadata": {
    "tags": []
   },
   "outputs": [],
   "source": [
    "books=books.drop(['ISBN', 'Year-Of-Publication','Publisher','Image-URL-S','Image-URL-M'], axis=1)"
   ]
  },
  {
   "cell_type": "code",
   "execution_count": 24,
   "id": "0e8fa65a-65b7-4e9d-8069-eb5bf3255304",
   "metadata": {
    "tags": []
   },
   "outputs": [
    {
     "data": {
      "text/html": [
       "<div>\n",
       "<style scoped>\n",
       "    .dataframe tbody tr th:only-of-type {\n",
       "        vertical-align: middle;\n",
       "    }\n",
       "\n",
       "    .dataframe tbody tr th {\n",
       "        vertical-align: top;\n",
       "    }\n",
       "\n",
       "    .dataframe thead th {\n",
       "        text-align: right;\n",
       "    }\n",
       "</style>\n",
       "<table border=\"1\" class=\"dataframe\">\n",
       "  <thead>\n",
       "    <tr style=\"text-align: right;\">\n",
       "      <th></th>\n",
       "      <th>Book-Title</th>\n",
       "      <th>Book-Author</th>\n",
       "      <th>Image-URL-L</th>\n",
       "    </tr>\n",
       "  </thead>\n",
       "  <tbody>\n",
       "    <tr>\n",
       "      <th>0</th>\n",
       "      <td>Classical Mythology</td>\n",
       "      <td>Mark P. O. Morford</td>\n",
       "      <td>http://images.amazon.com/images/P/0195153448.0...</td>\n",
       "    </tr>\n",
       "    <tr>\n",
       "      <th>1</th>\n",
       "      <td>Clara Callan</td>\n",
       "      <td>Richard Bruce Wright</td>\n",
       "      <td>http://images.amazon.com/images/P/0002005018.0...</td>\n",
       "    </tr>\n",
       "    <tr>\n",
       "      <th>2</th>\n",
       "      <td>Decision in Normandy</td>\n",
       "      <td>Carlo D'Este</td>\n",
       "      <td>http://images.amazon.com/images/P/0060973129.0...</td>\n",
       "    </tr>\n",
       "    <tr>\n",
       "      <th>3</th>\n",
       "      <td>Flu: The Story of the Great Influenza Pandemic...</td>\n",
       "      <td>Gina Bari Kolata</td>\n",
       "      <td>http://images.amazon.com/images/P/0374157065.0...</td>\n",
       "    </tr>\n",
       "    <tr>\n",
       "      <th>4</th>\n",
       "      <td>The Mummies of Urumchi</td>\n",
       "      <td>E. J. W. Barber</td>\n",
       "      <td>http://images.amazon.com/images/P/0393045218.0...</td>\n",
       "    </tr>\n",
       "    <tr>\n",
       "      <th>...</th>\n",
       "      <td>...</td>\n",
       "      <td>...</td>\n",
       "      <td>...</td>\n",
       "    </tr>\n",
       "    <tr>\n",
       "      <th>271355</th>\n",
       "      <td>There's a Bat in Bunk Five</td>\n",
       "      <td>Paula Danziger</td>\n",
       "      <td>http://images.amazon.com/images/P/0440400988.0...</td>\n",
       "    </tr>\n",
       "    <tr>\n",
       "      <th>271356</th>\n",
       "      <td>From One to One Hundred</td>\n",
       "      <td>Teri Sloat</td>\n",
       "      <td>http://images.amazon.com/images/P/0525447644.0...</td>\n",
       "    </tr>\n",
       "    <tr>\n",
       "      <th>271357</th>\n",
       "      <td>Lily Dale : The True Story of the Town that Ta...</td>\n",
       "      <td>Christine Wicker</td>\n",
       "      <td>http://images.amazon.com/images/P/006008667X.0...</td>\n",
       "    </tr>\n",
       "    <tr>\n",
       "      <th>271358</th>\n",
       "      <td>Republic (World's Classics)</td>\n",
       "      <td>Plato</td>\n",
       "      <td>http://images.amazon.com/images/P/0192126040.0...</td>\n",
       "    </tr>\n",
       "    <tr>\n",
       "      <th>271359</th>\n",
       "      <td>A Guided Tour of Rene Descartes' Meditations o...</td>\n",
       "      <td>Christopher  Biffle</td>\n",
       "      <td>http://images.amazon.com/images/P/0767409752.0...</td>\n",
       "    </tr>\n",
       "  </tbody>\n",
       "</table>\n",
       "<p>271360 rows × 3 columns</p>\n",
       "</div>"
      ],
      "text/plain": [
       "                                               Book-Title  \\\n",
       "0                                     Classical Mythology   \n",
       "1                                            Clara Callan   \n",
       "2                                    Decision in Normandy   \n",
       "3       Flu: The Story of the Great Influenza Pandemic...   \n",
       "4                                  The Mummies of Urumchi   \n",
       "...                                                   ...   \n",
       "271355                         There's a Bat in Bunk Five   \n",
       "271356                            From One to One Hundred   \n",
       "271357  Lily Dale : The True Story of the Town that Ta...   \n",
       "271358                        Republic (World's Classics)   \n",
       "271359  A Guided Tour of Rene Descartes' Meditations o...   \n",
       "\n",
       "                 Book-Author  \\\n",
       "0         Mark P. O. Morford   \n",
       "1       Richard Bruce Wright   \n",
       "2               Carlo D'Este   \n",
       "3           Gina Bari Kolata   \n",
       "4            E. J. W. Barber   \n",
       "...                      ...   \n",
       "271355        Paula Danziger   \n",
       "271356            Teri Sloat   \n",
       "271357      Christine Wicker   \n",
       "271358                 Plato   \n",
       "271359   Christopher  Biffle   \n",
       "\n",
       "                                              Image-URL-L  \n",
       "0       http://images.amazon.com/images/P/0195153448.0...  \n",
       "1       http://images.amazon.com/images/P/0002005018.0...  \n",
       "2       http://images.amazon.com/images/P/0060973129.0...  \n",
       "3       http://images.amazon.com/images/P/0374157065.0...  \n",
       "4       http://images.amazon.com/images/P/0393045218.0...  \n",
       "...                                                   ...  \n",
       "271355  http://images.amazon.com/images/P/0440400988.0...  \n",
       "271356  http://images.amazon.com/images/P/0525447644.0...  \n",
       "271357  http://images.amazon.com/images/P/006008667X.0...  \n",
       "271358  http://images.amazon.com/images/P/0192126040.0...  \n",
       "271359  http://images.amazon.com/images/P/0767409752.0...  \n",
       "\n",
       "[271360 rows x 3 columns]"
      ]
     },
     "execution_count": 24,
     "metadata": {},
     "output_type": "execute_result"
    }
   ],
   "source": [
    "books"
   ]
  },
  {
   "cell_type": "code",
   "execution_count": 28,
   "id": "aa34eaaa-0b2c-4e38-9c05-af35d781e37f",
   "metadata": {
    "tags": []
   },
   "outputs": [
    {
     "name": "stdout",
     "output_type": "stream",
     "text": [
      "1984\n",
      "Animal Farm\n",
      "The Handmaid's Tale\n",
      "Brave New World\n",
      "The Hours : A Novel\n"
     ]
    }
   ],
   "source": [
    "def crlt(user):\n",
    "    similar= pt.corrwith(user)\n",
    "    corrls=pd.DataFrame(similar,columns=[\"Correlation\"])\n",
    "    corrls.dropna(inplace=True)\n",
    "    rslt=corrls.sort_values('Correlation',ascending=False).head(5)\n",
    "    return rslt\n",
    "\n",
    "tahminler=crlt(user)\n",
    "\n",
    "for i in tahminler.index:\n",
    "    print(i)"
   ]
  },
  {
   "cell_type": "code",
   "execution_count": 33,
   "id": "8e5dc36c-5354-4d65-bc39-0d1248a4eba3",
   "metadata": {
    "tags": []
   },
   "outputs": [
    {
     "data": {
      "text/plain": [
       "Index(['1984', '1st to Die: A Novel', '2nd Chance', '4 Blondes',\n",
       "       'A Bend in the Road', 'A Case of Need',\n",
       "       'A Child Called \\It\\\": One Child's Courage to Survive\"',\n",
       "       'A Civil Action', 'A Day Late and a Dollar Short', 'A Fine Balance',\n",
       "       ...\n",
       "       'Winter Solstice', 'Wish You Well', 'Without Remorse',\n",
       "       'Wizard and Glass (The Dark Tower, Book 4)', 'Wuthering Heights',\n",
       "       'Year of Wonders', 'You Belong To Me',\n",
       "       'Zen and the Art of Motorcycle Maintenance: An Inquiry into Values',\n",
       "       'Zoya', '\\O\\\" Is for Outlaw\"'],\n",
       "      dtype='object', name='Book-Title', length=706)"
      ]
     },
     "execution_count": 33,
     "metadata": {},
     "output_type": "execute_result"
    }
   ],
   "source": [
    "pt.columns"
   ]
  },
  {
   "cell_type": "code",
   "execution_count": null,
   "id": "66a229a2-20ef-4a6a-85de-47bebc801f11",
   "metadata": {},
   "outputs": [],
   "source": []
  }
 ],
 "metadata": {
  "kernelspec": {
   "display_name": "Python 3 (ipykernel)",
   "language": "python",
   "name": "python3"
  },
  "language_info": {
   "codemirror_mode": {
    "name": "ipython",
    "version": 3
   },
   "file_extension": ".py",
   "mimetype": "text/x-python",
   "name": "python",
   "nbconvert_exporter": "python",
   "pygments_lexer": "ipython3",
   "version": "3.11.2"
  }
 },
 "nbformat": 4,
 "nbformat_minor": 5
}
